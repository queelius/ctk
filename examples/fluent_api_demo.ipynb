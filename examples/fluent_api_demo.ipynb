{
 "cells": [
  {
   "cell_type": "markdown",
   "metadata": {},
   "source": [
    "# CTK Fluent API Demo\n",
    "\n",
    "This notebook demonstrates the pythonic, fluent API for CTK (Conversation Toolkit)."
   ]
  },
  {
   "cell_type": "code",
   "execution_count": null,
   "metadata": {},
   "outputs": [],
   "source": [
    "# Setup\n",
    "import sys\n",
    "sys.path.append('..')\n",
    "\n",
    "from ctk import CTK, conversation, load, from_db"
   ]
  },
  {
   "cell_type": "markdown",
   "metadata": {},
   "source": [
    "## 1. Quick One-Liners\n",
    "\n",
    "CTK's fluent API allows for concise, expressive operations:"
   ]
  },
  {
   "cell_type": "code",
   "execution_count": null,
   "metadata": {},
   "outputs": [],
   "source": [
    "# Load a file and immediately export to another format\n",
    "# CTK.load(\"chat.json\").export_as(\"markdown\").save(\"chat.md\")\n",
    "\n",
    "# Convert between formats\n",
    "# load(\"openai_export.json\").with_format(\"openai\").export_as(\"jsonl\").save(\"training.jsonl\")\n",
    "\n",
    "# Filter and transform\n",
    "# load(\"all_chats.json\").filter(lambda c: \"python\" in c.title.lower()).export_as(\"json\").save(\"python_chats.json\")"
   ]
  },
  {
   "cell_type": "markdown",
   "metadata": {},
   "source": [
    "## 2. Building Conversations\n",
    "\n",
    "Create conversations programmatically with a natural, chainable syntax:"
   ]
  },
  {
   "cell_type": "code",
   "execution_count": null,
   "metadata": {},
   "outputs": [],
   "source": [
    "# Build a linear conversation\n",
    "chat = (conversation(\"Python Tutorial\")\n",
    "    .system(\"You are a Python tutor\")\n",
    "    .user(\"What is a list comprehension?\")\n",
    "    .assistant(\"A list comprehension is a concise way to create lists in Python...\")\n",
    "    .user(\"Can you show an example?\")\n",
    "    .assistant(\"Sure! Here's an example: `squares = [x**2 for x in range(10)]`\")\n",
    "    .with_tags(\"python\", \"tutorial\", \"basics\")\n",
    "    .build())\n",
    "\n",
    "print(f\"Created conversation: {chat.title}\")\n",
    "print(f\"Messages: {len(chat.message_map)}\")\n",
    "print(f\"Tags: {chat.metadata.tags}\")"
   ]
  },
  {
   "cell_type": "code",
   "execution_count": null,
   "metadata": {},
   "outputs": [],
   "source": [
    "# Build a branching conversation\n",
    "branching = (conversation(\"Creative Writing\")\n",
    "    .user(\"Write a haiku about coding\")\n",
    "    .assistant(\"Bugs hide in the code\\nDebugger reveals their form\\nFixed, peace returns now\")\n",
    "    .branch()  # Start alternative response from the same parent\n",
    "    .assistant(\"Semicolon missed\\nCompiler screams in anger\\nOne character fix\")\n",
    "    .build())\n",
    "\n",
    "paths = branching.get_all_paths()\n",
    "print(f\"Created branching conversation with {len(paths)} paths\")\n",
    "for i, path in enumerate(paths):\n",
    "    print(f\"  Path {i+1}: {len(path)} messages\")"
   ]
  },
  {
   "cell_type": "markdown",
   "metadata": {},
   "source": [
    "## 3. Database Operations\n",
    "\n",
    "Work with persistent storage using the same fluent style:"
   ]
  },
  {
   "cell_type": "code",
   "execution_count": null,
   "metadata": {},
   "outputs": [],
   "source": [
    "# Initialize with database\n",
    "ctk = CTK(\"demo.db\")\n",
    "\n",
    "# Save our created conversation\n",
    "# ctk.import_from(\"export.json\")\n",
    "#    .with_format(\"openai\")\n",
    "#    .with_tags(\"imported\", \"2024\")\n",
    "#    .with_project(\"Demos\")\n",
    "#    .save()"
   ]
  },
  {
   "cell_type": "markdown",
   "metadata": {},
   "source": [
    "## 4. Search and Query\n",
    "\n",
    "Powerful search and query capabilities with method chaining:"
   ]
  },
  {
   "cell_type": "code",
   "execution_count": null,
   "metadata": {},
   "outputs": [],
   "source": [
    "# Search with filters\n",
    "# results = ctk.search(\"python async\")\n",
    "#              .in_source(\"ChatGPT\")\n",
    "#              .with_model(\"gpt-4\")\n",
    "#              .limit(10)\n",
    "#              .get()\n",
    "\n",
    "# Query conversations\n",
    "# recent = ctk.conversations()\n",
    "#             .where(source=\"Claude\")\n",
    "#             .order_by(\"updated_at\", desc=True)\n",
    "#             .limit(5)\n",
    "#             .get()"
   ]
  },
  {
   "cell_type": "markdown",
   "metadata": {},
   "source": [
    "## 5. Export Options\n",
    "\n",
    "Fine-grained control over export formats and options:"
   ]
  },
  {
   "cell_type": "code",
   "execution_count": null,
   "metadata": {},
   "outputs": [],
   "source": [
    "# Export with detailed options\n",
    "from ctk import ExportBuilder\n",
    "\n",
    "# Markdown with all features\n",
    "# ExportBuilder([chat], \"markdown\")\n",
    "#     .with_paths(\"longest\")\n",
    "#     .include_metadata(True)\n",
    "#     .include_timestamps(True)\n",
    "#     .include_tree_structure(False)\n",
    "#     .save(\"detailed_export.md\")\n",
    "\n",
    "# JSON with different styles\n",
    "# ExportBuilder([chat], \"json\")\n",
    "#     .format_style(\"openai\")  # or \"anthropic\", \"ctk\", \"generic\"\n",
    "#     .pretty_print(True)\n",
    "#     .save(\"openai_format.json\")"
   ]
  },
  {
   "cell_type": "markdown",
   "metadata": {},
   "source": [
    "## 6. Complex Pipelines\n",
    "\n",
    "Chain multiple operations for complex workflows:"
   ]
  },
  {
   "cell_type": "code",
   "execution_count": null,
   "metadata": {},
   "outputs": [],
   "source": [
    "# Complete pipeline example\n",
    "def process_conversations():\n",
    "    \"\"\"Load, filter, transform, and export\"\"\"\n",
    "    return (load(\"conversations.json\")\n",
    "            .filter(lambda c: len(c.message_map) > 5)  # Only substantial conversations\n",
    "            .filter(lambda c: c.metadata.source in [\"ChatGPT\", \"Claude\"])\n",
    "            .transform(lambda c: add_analysis(c))  # Add custom analysis\n",
    "            .add_tags(\"analyzed\", \"filtered\")\n",
    "            .export_as(\"jsonl\")\n",
    "            .save(\"processed.jsonl\"))\n",
    "\n",
    "def add_analysis(conv):\n",
    "    \"\"\"Add analysis metadata to conversation\"\"\"\n",
    "    # Count words\n",
    "    total_words = sum(\n",
    "        len(msg.content.get_text().split())\n",
    "        for msg in conv.message_map.values()\n",
    "        if msg.content\n",
    "    )\n",
    "    \n",
    "    # Add to metadata\n",
    "    conv.metadata.custom_data['word_count'] = total_words\n",
    "    conv.metadata.custom_data['avg_message_length'] = total_words / len(conv.message_map)\n",
    "    \n",
    "    return conv\n",
    "\n",
    "# process_conversations()"
   ]
  },
  {
   "cell_type": "markdown",
   "metadata": {},
   "source": [
    "## 7. Batch Operations\n",
    "\n",
    "Efficient batch processing with context managers:"
   ]
  },
  {
   "cell_type": "code",
   "execution_count": null,
   "metadata": {},
   "outputs": [],
   "source": [
    "# Batch import multiple files\n",
    "# with ctk.batch():\n",
    "#     for file in [\"chat1.json\", \"chat2.json\", \"chat3.json\"]:\n",
    "#         ctk.import_from(file).with_tags(\"batch_import\").save()\n",
    "#     print(\"All imports will be committed together\")"
   ]
  },
  {
   "cell_type": "markdown",
   "metadata": {},
   "source": [
    "## 8. Statistics and Analysis"
   ]
  },
  {
   "cell_type": "code",
   "execution_count": null,
   "metadata": {},
   "outputs": [],
   "source": [
    "# Get database statistics\n",
    "# stats = ctk.stats()\n",
    "# print(f\"Total conversations: {stats['total_conversations']}\")\n",
    "# print(f\"Total messages: {stats['total_messages']}\")\n",
    "# print(f\"By source: {stats['by_source']}\")\n",
    "# print(f\"By model: {stats['by_model']}\")"
   ]
  },
  {
   "cell_type": "markdown",
   "metadata": {},
   "source": [
    "## Summary\n",
    "\n",
    "CTK's fluent API provides:\n",
    "\n",
    "1. **Chainable methods** - Build complex operations step by step\n",
    "2. **Expressive syntax** - Code reads like natural language\n",
    "3. **Type hints** - Full IDE support and autocomplete\n",
    "4. **Flexible filters** - Lambda functions for custom logic\n",
    "5. **Multiple formats** - Seamless conversion between formats\n",
    "6. **Batch operations** - Efficient bulk processing\n",
    "7. **Export control** - Fine-grained output options\n",
    "\n",
    "The API is designed to be discoverable - start with `CTK`, `load`, or `conversation` and let autocomplete guide you!"
   ]
  }
 ],
 "metadata": {
  "kernelspec": {
   "display_name": "Python 3",
   "language": "python",
   "name": "python3"
  },
  "language_info": {
   "codemirror_mode": {
    "name": "ipython",
    "version": 3
   },
   "file_extension": ".py",
   "mimetype": "text/x-python",
   "name": "python",
   "nbconvert_exporter": "python",
   "pygments_lexer": "ipython3",
   "version": "3.10.0"
  }
 },
 "nbformat": 4,
 "nbformat_minor": 4
}